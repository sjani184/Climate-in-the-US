{
 "cells": [
  {
   "cell_type": "code",
   "execution_count": 1,
   "metadata": {},
   "outputs": [],
   "source": [
    "import pandas as pd"
   ]
  },
  {
   "cell_type": "code",
   "execution_count": 2,
   "metadata": {},
   "outputs": [],
   "source": [
    "path = \"../../data/cleaned/merged_sales.csv\"\n",
    "car_sales = pd.read_csv(path)"
   ]
  },
  {
   "cell_type": "code",
   "execution_count": 3,
   "metadata": {},
   "outputs": [],
   "source": [
    "car_sales2 = car_sales.reset_index(drop=True).set_index(\"Category\")\n",
    "car_sales3 = car_sales2.T.reset_index()\n",
    "car_sales3.rename(columns={\"index\": \"year\"}, inplace=True)\n",
    "car_sales3.rename(columns={\"EV Sales\": \"ev_sales\", \"PHEV Sales\": \"phev_sales\", \"Production, total\": \"tot_prod\", \"Domestic sales, totalb\": \"tot_sales\"}, inplace=True)"
   ]
  },
  {
   "cell_type": "code",
   "execution_count": 4,
   "metadata": {},
   "outputs": [
    {
     "name": "stderr",
     "output_type": "stream",
     "text": [
      "C:\\Users\\uv9374\\Anaconda3\\envs\\PythonData\\lib\\site-packages\\ipykernel_launcher.py:2: SettingWithCopyWarning: \n",
      "A value is trying to be set on a copy of a slice from a DataFrame.\n",
      "Try using .loc[row_indexer,col_indexer] = value instead\n",
      "\n",
      "See the caveats in the documentation: https://pandas.pydata.org/pandas-docs/stable/user_guide/indexing.html#returning-a-view-versus-a-copy\n",
      "  \n"
     ]
    },
    {
     "data": {
      "text/html": [
       "<div>\n",
       "<style scoped>\n",
       "    .dataframe tbody tr th:only-of-type {\n",
       "        vertical-align: middle;\n",
       "    }\n",
       "\n",
       "    .dataframe tbody tr th {\n",
       "        vertical-align: top;\n",
       "    }\n",
       "\n",
       "    .dataframe thead th {\n",
       "        text-align: right;\n",
       "    }\n",
       "</style>\n",
       "<table border=\"1\" class=\"dataframe\">\n",
       "  <thead>\n",
       "    <tr style=\"text-align: right;\">\n",
       "      <th>Category</th>\n",
       "      <th>year</th>\n",
       "      <th>ev_sales</th>\n",
       "      <th>phev_sales</th>\n",
       "      <th>tot_prod</th>\n",
       "      <th>tot_sales</th>\n",
       "    </tr>\n",
       "  </thead>\n",
       "  <tbody>\n",
       "    <tr>\n",
       "      <th>0</th>\n",
       "      <td>2011</td>\n",
       "      <td>10092</td>\n",
       "      <td>7671</td>\n",
       "      <td>8662000</td>\n",
       "      <td>10109000</td>\n",
       "    </tr>\n",
       "    <tr>\n",
       "      <th>1</th>\n",
       "      <td>2012</td>\n",
       "      <td>14587</td>\n",
       "      <td>38584</td>\n",
       "      <td>10336000</td>\n",
       "      <td>11582000</td>\n",
       "    </tr>\n",
       "    <tr>\n",
       "      <th>2</th>\n",
       "      <td>2013</td>\n",
       "      <td>48094</td>\n",
       "      <td>49008</td>\n",
       "      <td>11067000</td>\n",
       "      <td>12479000</td>\n",
       "    </tr>\n",
       "    <tr>\n",
       "      <th>3</th>\n",
       "      <td>2014</td>\n",
       "      <td>63525</td>\n",
       "      <td>55357</td>\n",
       "      <td>11661000</td>\n",
       "      <td>13389000</td>\n",
       "    </tr>\n",
       "    <tr>\n",
       "      <th>4</th>\n",
       "      <td>2015</td>\n",
       "      <td>71064</td>\n",
       "      <td>42959</td>\n",
       "      <td>12106000</td>\n",
       "      <td>14128000</td>\n",
       "    </tr>\n",
       "  </tbody>\n",
       "</table>\n",
       "</div>"
      ],
      "text/plain": [
       "Category  year  ev_sales  phev_sales  tot_prod  tot_sales\n",
       "0         2011     10092        7671   8662000   10109000\n",
       "1         2012     14587       38584  10336000   11582000\n",
       "2         2013     48094       49008  11067000   12479000\n",
       "3         2014     63525       55357  11661000   13389000\n",
       "4         2015     71064       42959  12106000   14128000"
      ]
     },
     "execution_count": 4,
     "metadata": {},
     "output_type": "execute_result"
    }
   ],
   "source": [
    "car_sales4 = car_sales3.drop(['Passenger cars', 'Commercial vehiclesa', 'Passenger cars', 'Commercial vehiclesa'], axis=1)\n",
    "car_sales4[\"year\"] = car_sales4[\"year\"].astype(int)\n",
    "car_sales4.head()"
   ]
  },
  {
   "cell_type": "code",
   "execution_count": 5,
   "metadata": {},
   "outputs": [
    {
     "data": {
      "text/plain": [
       "Index(['Unnamed: 0', 'year', 'total_emission', 'transportation_emission',\n",
       "       'coal_emission', 'natural_gas_emission', 'electricity_emission',\n",
       "       'petroleum_emission', 'motor_emission', 'hydrocrabon_gas_emission',\n",
       "       'jet_fuel_emission', 'distillate_fuel_emission',\n",
       "       'residual_fuel_emission', 'lubricant_emission', 'aviation_gas_emission',\n",
       "       'industrial_emission', 'residential_emission', 'commercial_emission',\n",
       "       'wood energy production', 'biofuels production',\n",
       "       'total biomass energy production', 'total renewable energy production',\n",
       "       'hydroelectric power consumption', 'geothermal energy consumption',\n",
       "       'solar energy consumption', 'wind energy consumption',\n",
       "       'wood energy consumption', 'waste energy consumption',\n",
       "       'biofuels consumption', 'total biomass energy consumption',\n",
       "       'total renewable energy consumption', 'gdp_usd', 'gdp_growth_annual%',\n",
       "       'gdp_per_energyuse', 'gasprice_per_gal', 'inflated_gasprice_gal',\n",
       "       'emission_per_capita', 'electric_consumption_per_capita',\n",
       "       'gdp_per_capita_usd', 'gdp_per_capita_annualgrowth%'],\n",
       "      dtype='object')"
      ]
     },
     "execution_count": 5,
     "metadata": {},
     "output_type": "execute_result"
    }
   ],
   "source": [
    "path2 = \"../../data/cleaned/merged_energy_emission_data.csv\"\n",
    "emission_energy = pd.read_csv(path2)\n",
    "emission_energy.columns\n",
    "\n",
    "# unit of renewable energy - Trillion BTU, emission unit - Million Metric tons "
   ]
  },
  {
   "cell_type": "code",
   "execution_count": 6,
   "metadata": {},
   "outputs": [
    {
     "data": {
      "text/html": [
       "<div>\n",
       "<style scoped>\n",
       "    .dataframe tbody tr th:only-of-type {\n",
       "        vertical-align: middle;\n",
       "    }\n",
       "\n",
       "    .dataframe tbody tr th {\n",
       "        vertical-align: top;\n",
       "    }\n",
       "\n",
       "    .dataframe thead th {\n",
       "        text-align: right;\n",
       "    }\n",
       "</style>\n",
       "<table border=\"1\" class=\"dataframe\">\n",
       "  <thead>\n",
       "    <tr style=\"text-align: right;\">\n",
       "      <th></th>\n",
       "      <th>year</th>\n",
       "      <th>total_emission</th>\n",
       "      <th>transportation_emission</th>\n",
       "      <th>motor_emission</th>\n",
       "      <th>tot_ren_energy</th>\n",
       "      <th>gdp_usd</th>\n",
       "      <th>gdp_growth_annual%</th>\n",
       "      <th>gasprice_per_gal</th>\n",
       "      <th>inflated_gasprice_gal</th>\n",
       "    </tr>\n",
       "  </thead>\n",
       "  <tbody>\n",
       "    <tr>\n",
       "      <th>0</th>\n",
       "      <td>1990</td>\n",
       "      <td>5,039.90</td>\n",
       "      <td>1,587.60</td>\n",
       "      <td>966.8</td>\n",
       "      <td>6040.024</td>\n",
       "      <td>5.960000e+12</td>\n",
       "      <td>1.89</td>\n",
       "      <td>1.22</td>\n",
       "      <td>2.41</td>\n",
       "    </tr>\n",
       "    <tr>\n",
       "      <th>1</th>\n",
       "      <td>1991</td>\n",
       "      <td>4,994.60</td>\n",
       "      <td>1,567.90</td>\n",
       "      <td>962.4</td>\n",
       "      <td>6067.785</td>\n",
       "      <td>6.160000e+12</td>\n",
       "      <td>-0.11</td>\n",
       "      <td>1.20</td>\n",
       "      <td>2.27</td>\n",
       "    </tr>\n",
       "    <tr>\n",
       "      <th>2</th>\n",
       "      <td>1992</td>\n",
       "      <td>5,094.90</td>\n",
       "      <td>1,591.60</td>\n",
       "      <td>979.1</td>\n",
       "      <td>5820.556</td>\n",
       "      <td>6.520000e+12</td>\n",
       "      <td>3.52</td>\n",
       "      <td>1.09</td>\n",
       "      <td>2.00</td>\n",
       "    </tr>\n",
       "    <tr>\n",
       "      <th>3</th>\n",
       "      <td>1993</td>\n",
       "      <td>5,185.80</td>\n",
       "      <td>1,604.20</td>\n",
       "      <td>993.1</td>\n",
       "      <td>6081.635</td>\n",
       "      <td>6.860000e+12</td>\n",
       "      <td>2.75</td>\n",
       "      <td>1.07</td>\n",
       "      <td>1.90</td>\n",
       "    </tr>\n",
       "    <tr>\n",
       "      <th>4</th>\n",
       "      <td>1994</td>\n",
       "      <td>5,263.60</td>\n",
       "      <td>1,644.10</td>\n",
       "      <td>1,004.10</td>\n",
       "      <td>5987.142</td>\n",
       "      <td>7.290000e+12</td>\n",
       "      <td>4.03</td>\n",
       "      <td>1.07</td>\n",
       "      <td>1.87</td>\n",
       "    </tr>\n",
       "  </tbody>\n",
       "</table>\n",
       "</div>"
      ],
      "text/plain": [
       "   year total_emission transportation_emission motor_emission  tot_ren_energy  \\\n",
       "0  1990       5,039.90                1,587.60          966.8        6040.024   \n",
       "1  1991       4,994.60                1,567.90          962.4        6067.785   \n",
       "2  1992       5,094.90                1,591.60          979.1        5820.556   \n",
       "3  1993       5,185.80                1,604.20          993.1        6081.635   \n",
       "4  1994       5,263.60                1,644.10       1,004.10        5987.142   \n",
       "\n",
       "        gdp_usd  gdp_growth_annual%  gasprice_per_gal  inflated_gasprice_gal  \n",
       "0  5.960000e+12                1.89              1.22                   2.41  \n",
       "1  6.160000e+12               -0.11              1.20                   2.27  \n",
       "2  6.520000e+12                3.52              1.09                   2.00  \n",
       "3  6.860000e+12                2.75              1.07                   1.90  \n",
       "4  7.290000e+12                4.03              1.07                   1.87  "
      ]
     },
     "execution_count": 6,
     "metadata": {},
     "output_type": "execute_result"
    }
   ],
   "source": [
    "emission_energy2 = emission_energy[[\"year\",\"total_emission\", \"transportation_emission\", \"motor_emission\", \n",
    "                                    \"total renewable energy consumption\", \"gdp_usd\", \"gdp_growth_annual%\",\n",
    "                                    \"gasprice_per_gal\", \"inflated_gasprice_gal\"]]\n",
    "\n",
    "emission_energy3 = emission_energy2.rename(columns={\"total renewable energy consumption\": \"tot_ren_energy\"})\n",
    "# emission_energy3 = emission_energy3.astype(float64)\n",
    "emission_energy3.head()\n",
    "\n",
    "# df = df.astype(int)"
   ]
  },
  {
   "cell_type": "code",
   "execution_count": 7,
   "metadata": {},
   "outputs": [],
   "source": [
    "merge_df = pd.merge(left=car_sales4, right=emission_energy3, left_on='year', right_on='year')\n",
    "merge_df.to_csv(\"../../data/cleaned/final_ml_data.csv\", index=False)"
   ]
  },
  {
   "cell_type": "code",
   "execution_count": 8,
   "metadata": {},
   "outputs": [],
   "source": [
    "%matplotlib inline\n",
    "import matplotlib.pyplot as plt\n",
    "import numpy as np"
   ]
  },
  {
   "cell_type": "code",
   "execution_count": 9,
   "metadata": {},
   "outputs": [],
   "source": [
    "final_df = pd.read_csv(\"../../data/cleaned/final_ml_data.csv\")"
   ]
  },
  {
   "cell_type": "code",
   "execution_count": 10,
   "metadata": {},
   "outputs": [
    {
     "data": {
      "text/html": [
       "<div>\n",
       "<style scoped>\n",
       "    .dataframe tbody tr th:only-of-type {\n",
       "        vertical-align: middle;\n",
       "    }\n",
       "\n",
       "    .dataframe tbody tr th {\n",
       "        vertical-align: top;\n",
       "    }\n",
       "\n",
       "    .dataframe thead th {\n",
       "        text-align: right;\n",
       "    }\n",
       "</style>\n",
       "<table border=\"1\" class=\"dataframe\">\n",
       "  <thead>\n",
       "    <tr style=\"text-align: right;\">\n",
       "      <th></th>\n",
       "      <th>year</th>\n",
       "      <th>ev_sales</th>\n",
       "      <th>phev_sales</th>\n",
       "      <th>tot_prod</th>\n",
       "      <th>tot_sales</th>\n",
       "      <th>total_emission</th>\n",
       "      <th>transportation_emission</th>\n",
       "      <th>motor_emission</th>\n",
       "      <th>tot_ren_energy</th>\n",
       "      <th>gdp_usd</th>\n",
       "      <th>gdp_growth_annual%</th>\n",
       "      <th>gasprice_per_gal</th>\n",
       "      <th>inflated_gasprice_gal</th>\n",
       "    </tr>\n",
       "  </thead>\n",
       "  <tbody>\n",
       "    <tr>\n",
       "      <th>0</th>\n",
       "      <td>2011</td>\n",
       "      <td>10092</td>\n",
       "      <td>7671</td>\n",
       "      <td>8662000</td>\n",
       "      <td>10109000</td>\n",
       "      <td>5,445.70</td>\n",
       "      <td>1,809.00</td>\n",
       "      <td>1,057.00</td>\n",
       "      <td>9204.160</td>\n",
       "      <td>1.550000e+13</td>\n",
       "      <td>1.55</td>\n",
       "      <td>3.48</td>\n",
       "      <td>3.99</td>\n",
       "    </tr>\n",
       "    <tr>\n",
       "      <th>1</th>\n",
       "      <td>2012</td>\n",
       "      <td>14587</td>\n",
       "      <td>38584</td>\n",
       "      <td>10336000</td>\n",
       "      <td>11582000</td>\n",
       "      <td>5,229.00</td>\n",
       "      <td>1,773.40</td>\n",
       "      <td>1,051.10</td>\n",
       "      <td>8847.119</td>\n",
       "      <td>1.620000e+13</td>\n",
       "      <td>2.25</td>\n",
       "      <td>3.55</td>\n",
       "      <td>3.99</td>\n",
       "    </tr>\n",
       "    <tr>\n",
       "      <th>2</th>\n",
       "      <td>2013</td>\n",
       "      <td>48094</td>\n",
       "      <td>49008</td>\n",
       "      <td>11067000</td>\n",
       "      <td>12479000</td>\n",
       "      <td>5,356.00</td>\n",
       "      <td>1,796.40</td>\n",
       "      <td>1,066.00</td>\n",
       "      <td>9450.625</td>\n",
       "      <td>1.680000e+13</td>\n",
       "      <td>1.84</td>\n",
       "      <td>3.44</td>\n",
       "      <td>3.81</td>\n",
       "    </tr>\n",
       "    <tr>\n",
       "      <th>3</th>\n",
       "      <td>2014</td>\n",
       "      <td>63525</td>\n",
       "      <td>55357</td>\n",
       "      <td>11661000</td>\n",
       "      <td>13389000</td>\n",
       "      <td>5,413.20</td>\n",
       "      <td>1,814.90</td>\n",
       "      <td>1,077.20</td>\n",
       "      <td>9740.360</td>\n",
       "      <td>1.750000e+13</td>\n",
       "      <td>2.45</td>\n",
       "      <td>3.30</td>\n",
       "      <td>3.59</td>\n",
       "    </tr>\n",
       "    <tr>\n",
       "      <th>4</th>\n",
       "      <td>2015</td>\n",
       "      <td>71064</td>\n",
       "      <td>42959</td>\n",
       "      <td>12106000</td>\n",
       "      <td>14128000</td>\n",
       "      <td>5,262.90</td>\n",
       "      <td>1,838.80</td>\n",
       "      <td>1,083.10</td>\n",
       "      <td>9720.544</td>\n",
       "      <td>1.820000e+13</td>\n",
       "      <td>2.88</td>\n",
       "      <td>2.33</td>\n",
       "      <td>2.54</td>\n",
       "    </tr>\n",
       "  </tbody>\n",
       "</table>\n",
       "</div>"
      ],
      "text/plain": [
       "   year  ev_sales  phev_sales  tot_prod  tot_sales total_emission  \\\n",
       "0  2011     10092        7671   8662000   10109000       5,445.70   \n",
       "1  2012     14587       38584  10336000   11582000       5,229.00   \n",
       "2  2013     48094       49008  11067000   12479000       5,356.00   \n",
       "3  2014     63525       55357  11661000   13389000       5,413.20   \n",
       "4  2015     71064       42959  12106000   14128000       5,262.90   \n",
       "\n",
       "  transportation_emission motor_emission  tot_ren_energy       gdp_usd  \\\n",
       "0                1,809.00       1,057.00        9204.160  1.550000e+13   \n",
       "1                1,773.40       1,051.10        8847.119  1.620000e+13   \n",
       "2                1,796.40       1,066.00        9450.625  1.680000e+13   \n",
       "3                1,814.90       1,077.20        9740.360  1.750000e+13   \n",
       "4                1,838.80       1,083.10        9720.544  1.820000e+13   \n",
       "\n",
       "   gdp_growth_annual%  gasprice_per_gal  inflated_gasprice_gal  \n",
       "0                1.55              3.48                   3.99  \n",
       "1                2.25              3.55                   3.99  \n",
       "2                1.84              3.44                   3.81  \n",
       "3                2.45              3.30                   3.59  \n",
       "4                2.88              2.33                   2.54  "
      ]
     },
     "execution_count": 10,
     "metadata": {},
     "output_type": "execute_result"
    }
   ],
   "source": [
    "final_df.head()"
   ]
  },
  {
   "cell_type": "code",
   "execution_count": 11,
   "metadata": {},
   "outputs": [],
   "source": [
    "final_df[\"total_emission\"] = final_df[\"total_emission\"].apply(lambda x: float(x.split()[0].replace(',', '')))\n",
    "final_df[\"transportation_emission\"] = final_df[\"transportation_emission\"].apply(lambda x: float(x.split()[0].replace(',', '')))\n",
    "final_df[\"motor_emission\"] = final_df[\"motor_emission\"].apply(lambda x: float(x.split()[0].replace(',', '')))"
   ]
  },
  {
   "cell_type": "code",
   "execution_count": 12,
   "metadata": {},
   "outputs": [
    {
     "data": {
      "text/plain": [
       "Index(['year', 'ev_sales', 'phev_sales', 'tot_prod', 'tot_sales',\n",
       "       'total_emission', 'transportation_emission', 'motor_emission',\n",
       "       'tot_ren_energy', 'gdp_usd', 'gdp_growth_annual%', 'gasprice_per_gal',\n",
       "       'inflated_gasprice_gal'],\n",
       "      dtype='object')"
      ]
     },
     "execution_count": 12,
     "metadata": {},
     "output_type": "execute_result"
    }
   ],
   "source": [
    "# final_df.dtypes\n",
    "final_df.columns"
   ]
  },
  {
   "cell_type": "code",
   "execution_count": 13,
   "metadata": {},
   "outputs": [],
   "source": [
    "# R2 = 0.42\n",
    "# X = finalized_df[[\"year\"]]\n",
    "# y = finalized_df[\"ev_sales\"].values.reshape(-1,1)\n",
    "\n",
    "\n",
    "# R2 = 0.68\n",
    "# X = final_df[['tot_prod', 'tot_sales','total_emission', 'transportation_emission', 'motor_emission',\n",
    "#                'tot_ren_energy', 'gdp_usd', 'gdp_growth_annual%', 'gasprice_per_gal',\n",
    "#                'inflated_gasprice_gal']]\n",
    "# y = final_df[\"ev_sales\"].values.reshape(-1,1)\n",
    "\n",
    "# R2 = 0.93\n",
    "# X = final_df[['gasprice_per_gal',\n",
    "#                'inflated_gasprice_gal']]\n",
    "# y = final_df[\"ev_sales\"].values.reshape(-1,1)\n",
    "\n",
    "# R2 = -5.39\n",
    "# X = final_df[['total_emission', 'transportation_emission', 'motor_emission']]\n",
    "# y = final_df[\"ev_sales\"].values.reshape(-1,1)\n",
    "\n",
    "# R2 = 0.986\n",
    "X = final_df[['tot_ren_energy',\n",
    "              'gasprice_per_gal', 'inflated_gasprice_gal']]\n",
    "y = final_df[[\"ev_sales\"]].values.reshape(-1,1)\n",
    "\n",
    "# R2 = 0.91\n",
    "# X = final_df[['gdp_growth_annual%', 'gasprice_per_gal',\n",
    "#                'inflated_gasprice_gal']]\n",
    "# y = final_df[\"ev_sales\"].values.reshape(-1,1)\n",
    "\n",
    "# R2 = 0.87\n",
    "# X = final_df[['tot_prod', 'tot_sales']]\n",
    "# y = final_df[\"ev_sales\"].values.reshape(-1,1)"
   ]
  },
  {
   "cell_type": "code",
   "execution_count": 14,
   "metadata": {},
   "outputs": [],
   "source": [
    "from sklearn.model_selection import train_test_split\n",
    "X_train, X_test, y_train, y_test = train_test_split(X, y, random_state=42)"
   ]
  },
  {
   "cell_type": "code",
   "execution_count": 15,
   "metadata": {},
   "outputs": [],
   "source": [
    "from sklearn.linear_model import LinearRegression\n",
    "model = LinearRegression()"
   ]
  },
  {
   "cell_type": "code",
   "execution_count": 16,
   "metadata": {},
   "outputs": [
    {
     "name": "stdout",
     "output_type": "stream",
     "text": [
      "Weight coefficients:  [[ 4.06084730e+01  4.81296354e+05 -4.10974245e+05]]\n",
      "y-axis intercept:  [-416742.32681396]\n"
     ]
    }
   ],
   "source": [
    "model.fit(X, y)\n",
    "print('Weight coefficients: ', model.coef_)\n",
    "print('y-axis intercept: ', model.intercept_)"
   ]
  },
  {
   "cell_type": "code",
   "execution_count": 17,
   "metadata": {},
   "outputs": [
    {
     "name": "stdout",
     "output_type": "stream",
     "text": [
      "Training Score: 0.854806735515485\n",
      "Testing Score: 0.9856411295570161\n"
     ]
    }
   ],
   "source": [
    "model.fit(X_train, y_train)\n",
    "training_score = model.score(X_train, y_train)\n",
    "testing_score = model.score(X_test, y_test)\n",
    "\n",
    "# Revising values of training and testing score\n",
    "print(f\"Training Score: {training_score}\")\n",
    "print(f\"Testing Score: {testing_score}\")"
   ]
  },
  {
   "cell_type": "code",
   "execution_count": null,
   "metadata": {},
   "outputs": [],
   "source": []
  },
  {
   "cell_type": "code",
   "execution_count": 18,
   "metadata": {},
   "outputs": [
    {
     "name": "stdout",
     "output_type": "stream",
     "text": [
      "MSE: 18683606.914867815, R2: 0.9856411295570161\n"
     ]
    }
   ],
   "source": [
    "from sklearn.metrics import mean_squared_error\n",
    "predictions = model.predict(X_test)\n",
    "MSE = mean_squared_error(y_test, predictions)\n",
    "r2 = model.score(X_test, y_test)\n",
    "\n",
    "# Revising productivity of model by printing Mean Standard Error and R2 score\n",
    "print(f\"MSE: {MSE}, R2: {r2}\")"
   ]
  },
  {
   "cell_type": "code",
   "execution_count": 19,
   "metadata": {},
   "outputs": [
    {
     "data": {
      "text/plain": [
       "<matplotlib.collections.PathCollection at 0x168806c0470>"
      ]
     },
     "execution_count": 19,
     "metadata": {},
     "output_type": "execute_result"
    },
    {
     "data": {
      "image/png": "[encoded data removed]",
      "text/plain": [
       "<Figure size 432x288 with 1 Axes>"
      ]
     },
     "metadata": {
      "needs_background": "light"
     },
     "output_type": "display_data"
    }
   ],
   "source": [
    "# R2 = \n",
    "# X1 = final_df[[' year', 'tot_prod', 'tot_sales','total_emission', 'transportation_emission', 'motor_emission',\n",
    "#                'tot_ren_energy', 'gdp_usd', 'gdp_growth_annual%', 'gasprice_per_gal',\n",
    "#                'inflated_gasprice_gal']]\n",
    "# y1 = final_df[\"ev_sales\"].values.reshape(-1,1)\n",
    "\n",
    "X1 = final_df[['year']]\n",
    "y1 = final_df[\"ev_sales\"].values.reshape(-1,1)\n",
    "plt.scatter(X1,y1)"
   ]
  },
  {
   "cell_type": "code",
   "execution_count": 20,
   "metadata": {},
   "outputs": [],
   "source": [
    "X1_train, X1_test, y1_train, y1_test = train_test_split(X1, y1, random_state=42)"
   ]
  },
  {
   "cell_type": "code",
   "execution_count": 21,
   "metadata": {},
   "outputs": [
    {
     "data": {
      "text/plain": [
       "LinearRegression(copy_X=True, fit_intercept=True, n_jobs=None, normalize=False)"
      ]
     },
     "execution_count": 21,
     "metadata": {},
     "output_type": "execute_result"
    }
   ],
   "source": [
    "model1 = LinearRegression()\n",
    "model1.fit(X1_train,y1_train)"
   ]
  },
  {
   "cell_type": "code",
   "execution_count": 22,
   "metadata": {},
   "outputs": [
    {
     "name": "stdout",
     "output_type": "stream",
     "text": [
      "MSE: 754913960.6559393, R2: 0.419827669997033\n"
     ]
    }
   ],
   "source": [
    "predictions1 = model1.predict(X1_test)\n",
    "MSE1 = mean_squared_error(y1_test, predictions1)\n",
    "r21 = model1.score(X1_test, y1_test)\n",
    "\n",
    "print(f\"MSE: {MSE1}, R2: {r21}\")"
   ]
  },
  {
   "cell_type": "code",
   "execution_count": 23,
   "metadata": {},
   "outputs": [
    {
     "data": {
      "text/plain": [
       "[206877, 233999, 261121, 288243, 315365, 342487, 369609]"
      ]
     },
     "execution_count": 23,
     "metadata": {},
     "output_type": "execute_result"
    }
   ],
   "source": [
    "# We assume there is a positively correlated linear relationship between ev_sales through the range of time depicted below\n",
    "ev_sales_lst = []\n",
    "for x in range(2019,2026):\n",
    "    new_t = model1.predict([[x]])\n",
    "    ev_sales_lst.append(int(new_t))\n",
    "ev_sales_lst"
   ]
  },
  {
   "cell_type": "code",
   "execution_count": 24,
   "metadata": {},
   "outputs": [
    {
     "data": {
      "text/plain": [
       "<matplotlib.collections.PathCollection at 0x1688077a470>"
      ]
     },
     "execution_count": 24,
     "metadata": {},
     "output_type": "execute_result"
    },
    {
     "data": {
      "image/png": "[encoded data removed]",
      "text/plain": [
       "<Figure size 432x288 with 1 Axes>"
      ]
     },
     "metadata": {
      "needs_background": "light"
     },
     "output_type": "display_data"
    }
   ],
   "source": [
    "X2 = final_df[[\"year\"]]\n",
    "y2 = final_df[\"tot_sales\"].values.reshape(-1,1)\n",
    "plt.scatter(X2,y2)"
   ]
  },
  {
   "cell_type": "code",
   "execution_count": 25,
   "metadata": {},
   "outputs": [],
   "source": [
    "X2_train, X2_test, y2_train, y2_test = train_test_split(X2, y2, random_state=42)"
   ]
  },
  {
   "cell_type": "code",
   "execution_count": 26,
   "metadata": {},
   "outputs": [
    {
     "data": {
      "text/plain": [
       "LinearRegression(copy_X=True, fit_intercept=True, n_jobs=None, normalize=False)"
      ]
     },
     "execution_count": 26,
     "metadata": {},
     "output_type": "execute_result"
    }
   ],
   "source": [
    "model2 = LinearRegression()\n",
    "model2.fit(X2_train,y2_train)"
   ]
  },
  {
   "cell_type": "code",
   "execution_count": 27,
   "metadata": {},
   "outputs": [
    {
     "name": "stdout",
     "output_type": "stream",
     "text": [
      "MSE: 100426516000.0, R2: 0.9294976570654233\n"
     ]
    }
   ],
   "source": [
    "predictions2 = model2.predict(X2_test)\n",
    "MSE2 = mean_squared_error(y2_test, predictions2)\n",
    "r22 = model2.score(X2_test, y2_test)\n",
    "\n",
    "print(f\"MSE: {MSE2}, R2: {r22}\")"
   ]
  },
  {
   "cell_type": "code",
   "execution_count": 28,
   "metadata": {},
   "outputs": [
    {
     "data": {
      "text/plain": [
       "[14923140, 15387480, 15851820, 16316160, 16780500, 17244840, 17709180]"
      ]
     },
     "execution_count": 28,
     "metadata": {},
     "output_type": "execute_result"
    }
   ],
   "source": [
    "tot_sales_lst = []\n",
    "for x in range(2019,2026):\n",
    "    new_x = model2.predict([[x]])\n",
    "    tot_sales_lst.append(int(new_x))\n",
    "tot_sales_lst"
   ]
  },
  {
   "cell_type": "code",
   "execution_count": 29,
   "metadata": {},
   "outputs": [
    {
     "data": {
      "text/plain": [
       "<matplotlib.collections.PathCollection at 0x168807ebdd8>"
      ]
     },
     "execution_count": 29,
     "metadata": {},
     "output_type": "execute_result"
    },
    {
     "data": {
      "image/png": "[encoded data removed]",
      "text/plain": [
       "<Figure size 432x288 with 1 Axes>"
      ]
     },
     "metadata": {
      "needs_background": "light"
     },
     "output_type": "display_data"
    }
   ],
   "source": [
    "X3 = final_df[['year']]\n",
    "y3 = final_df[\"tot_prod\"].values.reshape(-1,1)\n",
    "plt.scatter(X3,y3)"
   ]
  },
  {
   "cell_type": "code",
   "execution_count": 30,
   "metadata": {},
   "outputs": [],
   "source": [
    "X3_train, X3_test, y3_train, y3_test = train_test_split(X3, y3, random_state=42)"
   ]
  },
  {
   "cell_type": "code",
   "execution_count": 31,
   "metadata": {},
   "outputs": [
    {
     "data": {
      "text/plain": [
       "LinearRegression(copy_X=True, fit_intercept=True, n_jobs=None, normalize=False)"
      ]
     },
     "execution_count": 31,
     "metadata": {},
     "output_type": "execute_result"
    }
   ],
   "source": [
    "model3 = LinearRegression()\n",
    "model3.fit(X3_train,y3_train)"
   ]
  },
  {
   "cell_type": "code",
   "execution_count": 32,
   "metadata": {},
   "outputs": [
    {
     "name": "stdout",
     "output_type": "stream",
     "text": [
      "MSE: 319543204000.0, R2: 0.6241039661962817\n"
     ]
    }
   ],
   "source": [
    "predictions3 = model3.predict(X3_test)\n",
    "MSE3 = mean_squared_error(y3_test, predictions3)\n",
    "r23 = model3.score(X3_test, y3_test)\n",
    "\n",
    "print(f\"MSE: {MSE3}, R2: {r23}\")"
   ]
  },
  {
   "cell_type": "code",
   "execution_count": 33,
   "metadata": {},
   "outputs": [
    {
     "data": {
      "text/plain": [
       "[12274670, 12569440, 12864210, 13158980, 13453750, 13748520, 14043290]"
      ]
     },
     "execution_count": 33,
     "metadata": {},
     "output_type": "execute_result"
    }
   ],
   "source": [
    "# We assume there is a positively correlated linear relationship between ev_sales through the range of time depicted below\n",
    "tot_prod_lst = []\n",
    "for x in range(2019,2026):\n",
    "    new_t = model3.predict([[x]])\n",
    "    tot_prod_lst.append(int(new_t))\n",
    "tot_prod_lst"
   ]
  },
  {
   "cell_type": "code",
   "execution_count": 34,
   "metadata": {},
   "outputs": [
    {
     "name": "stdout",
     "output_type": "stream",
     "text": [
      "MSE: 316.5929999999635, R2: 0.8670581664875184\n"
     ]
    },
    {
     "data": {
      "image/png": "[encoded data removed]",
      "text/plain": [
       "<Figure size 432x288 with 1 Axes>"
      ]
     },
     "metadata": {
      "needs_background": "light"
     },
     "output_type": "display_data"
    }
   ],
   "source": [
    "X4 = final_df[['year']]\n",
    "y4 = final_df[\"transportation_emission\"].values.reshape(-1,1)\n",
    "plt.scatter(X4,y4)\n",
    "\n",
    "X4_train, X4_test, y4_train, y4_test = train_test_split(X4, y4, random_state=42)\n",
    "\n",
    "model4 = LinearRegression()\n",
    "model4.fit(X4_train,y4_train)\n",
    "\n",
    "predictions4 = model4.predict(X4_test)\n",
    "MSE4 = mean_squared_error(y4_test, predictions4)\n",
    "r24 = model4.score(X4_test, y4_test)\n",
    "\n",
    "print(f\"MSE: {MSE4}, R2: {r24}\")"
   ]
  },
  {
   "cell_type": "code",
   "execution_count": 35,
   "metadata": {},
   "outputs": [
    {
     "data": {
      "text/plain": [
       "[1918, 1935, 1952, 1970, 1987, 2004, 2021]"
      ]
     },
     "execution_count": 35,
     "metadata": {},
     "output_type": "execute_result"
    }
   ],
   "source": [
    "transportation_emission = []\n",
    "for x in range(2019,2026):\n",
    "    new_t = model4.predict([[x]])\n",
    "    transportation_emission.append(int(new_t))\n",
    "transportation_emission"
   ]
  },
  {
   "cell_type": "code",
   "execution_count": 36,
   "metadata": {},
   "outputs": [
    {
     "name": "stdout",
     "output_type": "stream",
     "text": [
      "MSE: 148.36900000000153, R2: 0.7672871287128689\n"
     ]
    },
    {
     "data": {
      "image/png": "[encoded data removed]",
      "text/plain": [
       "<Figure size 432x288 with 1 Axes>"
      ]
     },
     "metadata": {
      "needs_background": "light"
     },
     "output_type": "display_data"
    }
   ],
   "source": [
    "X5 = final_df[['year']]\n",
    "y5 = final_df[\"motor_emission\"].values.reshape(-1,1)\n",
    "plt.scatter(X5,y5)\n",
    "\n",
    "X5_train, X5_test, y5_train, y5_test = train_test_split(X5, y5, random_state=42)\n",
    "\n",
    "model5 = LinearRegression()\n",
    "model5.fit(X5_train,y5_train)\n",
    "\n",
    "predictions5 = model5.predict(X5_test)\n",
    "MSE5 = mean_squared_error(y5_test, predictions5)\n",
    "r25 = model5.score(X5_test, y5_test)\n",
    "\n",
    "print(f\"MSE: {MSE5}, R2: {r25}\")"
   ]
  },
  {
   "cell_type": "code",
   "execution_count": 37,
   "metadata": {},
   "outputs": [
    {
     "data": {
      "text/plain": [
       "[1108, 1115, 1121, 1128, 1134, 1141, 1147]"
      ]
     },
     "execution_count": 37,
     "metadata": {},
     "output_type": "execute_result"
    }
   ],
   "source": [
    "motor_emission = []\n",
    "for x in range(2019,2026):\n",
    "    new_t = model5.predict([[x]])\n",
    "    motor_emission.append(int(new_t))\n",
    "motor_emission"
   ]
  },
  {
   "cell_type": "code",
   "execution_count": 38,
   "metadata": {},
   "outputs": [
    {
     "name": "stdout",
     "output_type": "stream",
     "text": [
      "MSE: 81251.63133775636, R2: 0.8584756366329416\n"
     ]
    },
    {
     "data": {
      "image/png": "[encoded data removed]",
      "text/plain": [
       "<Figure size 432x288 with 1 Axes>"
      ]
     },
     "metadata": {
      "needs_background": "light"
     },
     "output_type": "display_data"
    }
   ],
   "source": [
    "X6 = final_df[['year']]\n",
    "y6 = final_df[\"tot_ren_energy\"].values.reshape(-1,1)\n",
    "plt.scatter(X6,y6)\n",
    "\n",
    "X6_train, X6_test, y6_train, y6_test = train_test_split(X6, y6, random_state=42)\n",
    "\n",
    "model6 = LinearRegression()\n",
    "model6.fit(X6_train,y6_train)\n",
    "\n",
    "predictions6 = model6.predict(X6_test)\n",
    "MSE6 = mean_squared_error(y6_test, predictions6)\n",
    "r26 = model6.score(X6_test, y6_test)\n",
    "\n",
    "print(f\"MSE: {MSE6}, R2: {r26}\")"
   ]
  },
  {
   "cell_type": "code",
   "execution_count": 39,
   "metadata": {},
   "outputs": [
    {
     "data": {
      "text/plain": [
       "[11481, 11804, 12126, 12449, 12772, 13095, 13418]"
      ]
     },
     "execution_count": 39,
     "metadata": {},
     "output_type": "execute_result"
    }
   ],
   "source": [
    "tot_ren_energy = []\n",
    "for x in range(2019,2026):\n",
    "    new_t = model6.predict([[x]])\n",
    "    tot_ren_energy.append(int(new_t))\n",
    "tot_ren_energy"
   ]
  },
  {
   "cell_type": "code",
   "execution_count": 40,
   "metadata": {},
   "outputs": [
    {
     "name": "stdout",
     "output_type": "stream",
     "text": [
      "MSE: 3.044e+22, R2: 0.9805183999999999\n"
     ]
    },
    {
     "data": {
      "image/png": "[encoded data removed]",
      "text/plain": [
       "<Figure size 432x288 with 1 Axes>"
      ]
     },
     "metadata": {
      "needs_background": "light"
     },
     "output_type": "display_data"
    }
   ],
   "source": [
    "X7 = final_df[['year']]\n",
    "y7 = final_df[\"gdp_usd\"].values.reshape(-1,1)\n",
    "plt.scatter(X7,y7)\n",
    "\n",
    "X7_train, X7_test, y7_train, y7_test = train_test_split(X7, y7, random_state=42)\n",
    "\n",
    "model7 = LinearRegression()\n",
    "model7.fit(X7_train,y7_train)\n",
    "\n",
    "predictions7 = model7.predict(X7_test)\n",
    "MSE7 = mean_squared_error(y7_test, predictions7)\n",
    "r27 = model7.score(X7_test, y7_test)\n",
    "\n",
    "print(f\"MSE: {MSE7}, R2: {r27}\")"
   ]
  },
  {
   "cell_type": "code",
   "execution_count": 41,
   "metadata": {},
   "outputs": [
    {
     "data": {
      "text/plain": [
       "[21042000000000,\n",
       " 21744000000000,\n",
       " 22446000000000,\n",
       " 23148000000000,\n",
       " 23850000000000,\n",
       " 24552000000000,\n",
       " 25254000000000]"
      ]
     },
     "execution_count": 41,
     "metadata": {},
     "output_type": "execute_result"
    }
   ],
   "source": [
    "gdp_usd = []\n",
    "for x in range(2019,2026):\n",
    "    new_t = model7.predict([[x]])\n",
    "    gdp_usd.append(int(new_t))\n",
    "gdp_usd"
   ]
  },
  {
   "cell_type": "code",
   "execution_count": 42,
   "metadata": {},
   "outputs": [],
   "source": [
    "# # [[' year', 'tot_prod', 'tot_sales','total_emission', 'transportation_emission', 'motor_emission',\n",
    "# #                'tot_ren_energy', 'gdp_usd', 'gdp_growth_annual%', 'gasprice_per_gal',\n",
    "# #                'inflated_gasprice_gal']]\n",
    "\n",
    "# X8 = final_df[['year']]\n",
    "# y8 = final_df[\"gasprice_per_gal\"].values.reshape(-1,1)\n",
    "# plt.scatter(X8,y8)\n",
    "\n",
    "# X8_train, X8_test, y8_train, y8_test = train_test_split(X8, y8, random_state=42)\n",
    "\n",
    "# model8 = LinearRegression()\n",
    "# model8.fit(X8_train,y8_train)\n",
    "\n",
    "# predictions8 = model8.predict(X8_test)\n",
    "# MSE8 = mean_squared_error(y8_test, predictions8)\n",
    "# r28 = model8.score(X8_test, y8_test)\n",
    "\n",
    "# print(f\"MSE: {MSE8}, R2: {r28}\")"
   ]
  },
  {
   "cell_type": "code",
   "execution_count": 43,
   "metadata": {},
   "outputs": [],
   "source": [
    "# gasprice_per_gal = []\n",
    "# for x in range(2019,2026):\n",
    "#     new_t = model8.predict([[x]])\n",
    "#     gasprice_per_gal.append(int(new_t))\n",
    "# gasprice_per_gal"
   ]
  },
  {
   "cell_type": "code",
   "execution_count": 44,
   "metadata": {},
   "outputs": [],
   "source": [
    "# X9 = final_df[['year']]\n",
    "# y9 = final_df[\"inflated_gasprice_gal\"].values.reshape(-1,1)\n",
    "# plt.scatter(X9,y9)\n",
    "\n",
    "# X9_train, X9_test, y9_train, y9_test = train_test_split(X9, y9, random_state=42)\n",
    "\n",
    "# model9 = LinearRegression()\n",
    "# model9.fit(X9_train,y9_train)\n",
    "\n",
    "# predictions9 = model9.predict(X9_test)\n",
    "# MSE9 = mean_squared_error(y9_test, predictions9)\n",
    "# r29 = model9.score(X9_test, y9_test)\n",
    "\n",
    "# print(f\"MSE: {MSE9}, R2: {r29}\")"
   ]
  },
  {
   "cell_type": "code",
   "execution_count": 45,
   "metadata": {},
   "outputs": [],
   "source": [
    "# inflated_gasprice_gal = []\n",
    "# for x in range(2019,2026):\n",
    "#     new_t = model9.predict([[x]])\n",
    "#     inflated_gasprice_gal.append(int(new_t))\n",
    "# inflated_gasprice_gal"
   ]
  },
  {
   "cell_type": "code",
   "execution_count": 46,
   "metadata": {},
   "outputs": [
    {
     "data": {
      "text/plain": [
       "Text(0.5, 1.0, 'Residual Plot')"
      ]
     },
     "execution_count": 46,
     "metadata": {},
     "output_type": "execute_result"
    },
    {
     "data": {
      "image/png": "[encoded data removed]",
      "text/plain": [
       "<Figure size 432x288 with 1 Axes>"
      ]
     },
     "metadata": {
      "needs_background": "light"
     },
     "output_type": "display_data"
    }
   ],
   "source": [
    "# Plotting residuals for training and testing data using plotly from matplotlib library\n",
    "plt.scatter(model1.predict(X1_train), model1.predict(X1_train) - y1_train, c=\"blue\", label=\"Training Data\")\n",
    "plt.scatter(model1.predict(X1_test), model1.predict(X1_test) - y1_test, c=\"orange\", label=\"Testing Data\")\n",
    "plt.legend()\n",
    "plt.hlines(y=0, xmin=y.min(), xmax=y.max())\n",
    "plt.title(\"Residual Plot\")"
   ]
  },
  {
   "cell_type": "code",
   "execution_count": 47,
   "metadata": {},
   "outputs": [
    {
     "data": {
      "text/plain": [
       "Text(0.5, 1.0, 'Residual Plot')"
      ]
     },
     "execution_count": 47,
     "metadata": {},
     "output_type": "execute_result"
    },
    {
     "data": {
      "image/png": "[encoded data removed]",
      "text/plain": [
       "<Figure size 432x288 with 1 Axes>"
      ]
     },
     "metadata": {
      "needs_background": "light"
     },
     "output_type": "display_data"
    }
   ],
   "source": [
    "plt.scatter(model2.predict(X2_train), model2.predict(X2_train) - y2_train, c=\"blue\", label=\"Training Data\")\n",
    "plt.scatter(model2.predict(X2_test), model2.predict(X2_test) - y2_test, c=\"orange\", label=\"Testing Data\")\n",
    "plt.legend()\n",
    "plt.hlines(y=0, xmin=y.min(), xmax=y.max())\n",
    "plt.title(\"Residual Plot\")"
   ]
  },
  {
   "cell_type": "code",
   "execution_count": 48,
   "metadata": {},
   "outputs": [],
   "source": [
    "years = [2019,2020,2021,2022,2023,2024,2025]\n",
    "# years_df = pd.DataFrame(years, columns=['year'])\n",
    "# df = pd.DataFrame(ev_sales_lst, columns=['ev_sales'])\n",
    "# df1 = pd.DataFrame(tot_sales_lst, columns=['total_sales'])"
   ]
  },
  {
   "cell_type": "code",
   "execution_count": 49,
   "metadata": {},
   "outputs": [
    {
     "data": {
      "text/html": [
       "<div>\n",
       "<style scoped>\n",
       "    .dataframe tbody tr th:only-of-type {\n",
       "        vertical-align: middle;\n",
       "    }\n",
       "\n",
       "    .dataframe tbody tr th {\n",
       "        vertical-align: top;\n",
       "    }\n",
       "\n",
       "    .dataframe thead th {\n",
       "        text-align: right;\n",
       "    }\n",
       "</style>\n",
       "<table border=\"1\" class=\"dataframe\">\n",
       "  <thead>\n",
       "    <tr style=\"text-align: right;\">\n",
       "      <th></th>\n",
       "      <th>year</th>\n",
       "      <th>tot_sales</th>\n",
       "      <th>ev_sales</th>\n",
       "      <th>tot_prod</th>\n",
       "      <th>transportation_emission</th>\n",
       "      <th>motor_emission</th>\n",
       "      <th>tot_ren_energy</th>\n",
       "      <th>gdp_usd</th>\n",
       "    </tr>\n",
       "  </thead>\n",
       "  <tbody>\n",
       "    <tr>\n",
       "      <th>0</th>\n",
       "      <td>2019</td>\n",
       "      <td>14923140</td>\n",
       "      <td>206877</td>\n",
       "      <td>12274670</td>\n",
       "      <td>1918</td>\n",
       "      <td>1108</td>\n",
       "      <td>11481</td>\n",
       "      <td>21042000000000</td>\n",
       "    </tr>\n",
       "    <tr>\n",
       "      <th>1</th>\n",
       "      <td>2020</td>\n",
       "      <td>15387480</td>\n",
       "      <td>233999</td>\n",
       "      <td>12569440</td>\n",
       "      <td>1935</td>\n",
       "      <td>1115</td>\n",
       "      <td>11804</td>\n",
       "      <td>21744000000000</td>\n",
       "    </tr>\n",
       "    <tr>\n",
       "      <th>2</th>\n",
       "      <td>2021</td>\n",
       "      <td>15851820</td>\n",
       "      <td>261121</td>\n",
       "      <td>12864210</td>\n",
       "      <td>1952</td>\n",
       "      <td>1121</td>\n",
       "      <td>12126</td>\n",
       "      <td>22446000000000</td>\n",
       "    </tr>\n",
       "    <tr>\n",
       "      <th>3</th>\n",
       "      <td>2022</td>\n",
       "      <td>16316160</td>\n",
       "      <td>288243</td>\n",
       "      <td>13158980</td>\n",
       "      <td>1970</td>\n",
       "      <td>1128</td>\n",
       "      <td>12449</td>\n",
       "      <td>23148000000000</td>\n",
       "    </tr>\n",
       "    <tr>\n",
       "      <th>4</th>\n",
       "      <td>2023</td>\n",
       "      <td>16780500</td>\n",
       "      <td>315365</td>\n",
       "      <td>13453750</td>\n",
       "      <td>1987</td>\n",
       "      <td>1134</td>\n",
       "      <td>12772</td>\n",
       "      <td>23850000000000</td>\n",
       "    </tr>\n",
       "    <tr>\n",
       "      <th>5</th>\n",
       "      <td>2024</td>\n",
       "      <td>17244840</td>\n",
       "      <td>342487</td>\n",
       "      <td>13748520</td>\n",
       "      <td>2004</td>\n",
       "      <td>1141</td>\n",
       "      <td>13095</td>\n",
       "      <td>24552000000000</td>\n",
       "    </tr>\n",
       "    <tr>\n",
       "      <th>6</th>\n",
       "      <td>2025</td>\n",
       "      <td>17709180</td>\n",
       "      <td>369609</td>\n",
       "      <td>14043290</td>\n",
       "      <td>2021</td>\n",
       "      <td>1147</td>\n",
       "      <td>13418</td>\n",
       "      <td>25254000000000</td>\n",
       "    </tr>\n",
       "  </tbody>\n",
       "</table>\n",
       "</div>"
      ],
      "text/plain": [
       "   year  tot_sales  ev_sales  tot_prod  transportation_emission  \\\n",
       "0  2019   14923140    206877  12274670                     1918   \n",
       "1  2020   15387480    233999  12569440                     1935   \n",
       "2  2021   15851820    261121  12864210                     1952   \n",
       "3  2022   16316160    288243  13158980                     1970   \n",
       "4  2023   16780500    315365  13453750                     1987   \n",
       "5  2024   17244840    342487  13748520                     2004   \n",
       "6  2025   17709180    369609  14043290                     2021   \n",
       "\n",
       "   motor_emission  tot_ren_energy         gdp_usd  \n",
       "0            1108           11481  21042000000000  \n",
       "1            1115           11804  21744000000000  \n",
       "2            1121           12126  22446000000000  \n",
       "3            1128           12449  23148000000000  \n",
       "4            1134           12772  23850000000000  \n",
       "5            1141           13095  24552000000000  \n",
       "6            1147           13418  25254000000000  "
      ]
     },
     "execution_count": 49,
     "metadata": {},
     "output_type": "execute_result"
    }
   ],
   "source": [
    "d = {'year': years, 'tot_sales': tot_sales_lst, 'ev_sales': ev_sales_lst, 'tot_prod': tot_prod_lst,\n",
    "    'transportation_emission': transportation_emission, 'motor_emission': motor_emission, 'tot_ren_energy': tot_ren_energy,\n",
    "    'gdp_usd': gdp_usd}\n",
    "sale_prediction_df = pd.DataFrame(d)\n",
    "sale_prediction_df.head(10)"
   ]
  },
  {
   "cell_type": "code",
   "execution_count": 50,
   "metadata": {},
   "outputs": [
    {
     "data": {
      "text/html": [
       "<div>\n",
       "<style scoped>\n",
       "    .dataframe tbody tr th:only-of-type {\n",
       "        vertical-align: middle;\n",
       "    }\n",
       "\n",
       "    .dataframe tbody tr th {\n",
       "        vertical-align: top;\n",
       "    }\n",
       "\n",
       "    .dataframe thead th {\n",
       "        text-align: right;\n",
       "    }\n",
       "</style>\n",
       "<table border=\"1\" class=\"dataframe\">\n",
       "  <thead>\n",
       "    <tr style=\"text-align: right;\">\n",
       "      <th></th>\n",
       "      <th>year</th>\n",
       "      <th>ev_sales</th>\n",
       "      <th>phev_sales</th>\n",
       "      <th>tot_prod</th>\n",
       "      <th>tot_sales</th>\n",
       "      <th>total_emission</th>\n",
       "      <th>transportation_emission</th>\n",
       "      <th>motor_emission</th>\n",
       "      <th>tot_ren_energy</th>\n",
       "      <th>gdp_usd</th>\n",
       "      <th>gdp_growth_annual%</th>\n",
       "      <th>gasprice_per_gal</th>\n",
       "      <th>inflated_gasprice_gal</th>\n",
       "    </tr>\n",
       "  </thead>\n",
       "  <tbody>\n",
       "    <tr>\n",
       "      <th>0</th>\n",
       "      <td>2011</td>\n",
       "      <td>10092</td>\n",
       "      <td>7671.0</td>\n",
       "      <td>8662000</td>\n",
       "      <td>10109000</td>\n",
       "      <td>5445.7</td>\n",
       "      <td>1809.0</td>\n",
       "      <td>1057.0</td>\n",
       "      <td>9204.160</td>\n",
       "      <td>1.550000e+13</td>\n",
       "      <td>1.55</td>\n",
       "      <td>3.48</td>\n",
       "      <td>3.99</td>\n",
       "    </tr>\n",
       "    <tr>\n",
       "      <th>1</th>\n",
       "      <td>2012</td>\n",
       "      <td>14587</td>\n",
       "      <td>38584.0</td>\n",
       "      <td>10336000</td>\n",
       "      <td>11582000</td>\n",
       "      <td>5229.0</td>\n",
       "      <td>1773.4</td>\n",
       "      <td>1051.1</td>\n",
       "      <td>8847.119</td>\n",
       "      <td>1.620000e+13</td>\n",
       "      <td>2.25</td>\n",
       "      <td>3.55</td>\n",
       "      <td>3.99</td>\n",
       "    </tr>\n",
       "    <tr>\n",
       "      <th>2</th>\n",
       "      <td>2013</td>\n",
       "      <td>48094</td>\n",
       "      <td>49008.0</td>\n",
       "      <td>11067000</td>\n",
       "      <td>12479000</td>\n",
       "      <td>5356.0</td>\n",
       "      <td>1796.4</td>\n",
       "      <td>1066.0</td>\n",
       "      <td>9450.625</td>\n",
       "      <td>1.680000e+13</td>\n",
       "      <td>1.84</td>\n",
       "      <td>3.44</td>\n",
       "      <td>3.81</td>\n",
       "    </tr>\n",
       "    <tr>\n",
       "      <th>3</th>\n",
       "      <td>2014</td>\n",
       "      <td>63525</td>\n",
       "      <td>55357.0</td>\n",
       "      <td>11661000</td>\n",
       "      <td>13389000</td>\n",
       "      <td>5413.2</td>\n",
       "      <td>1814.9</td>\n",
       "      <td>1077.2</td>\n",
       "      <td>9740.360</td>\n",
       "      <td>1.750000e+13</td>\n",
       "      <td>2.45</td>\n",
       "      <td>3.30</td>\n",
       "      <td>3.59</td>\n",
       "    </tr>\n",
       "    <tr>\n",
       "      <th>4</th>\n",
       "      <td>2015</td>\n",
       "      <td>71064</td>\n",
       "      <td>42959.0</td>\n",
       "      <td>12106000</td>\n",
       "      <td>14128000</td>\n",
       "      <td>5262.9</td>\n",
       "      <td>1838.8</td>\n",
       "      <td>1083.1</td>\n",
       "      <td>9720.544</td>\n",
       "      <td>1.820000e+13</td>\n",
       "      <td>2.88</td>\n",
       "      <td>2.33</td>\n",
       "      <td>2.54</td>\n",
       "    </tr>\n",
       "  </tbody>\n",
       "</table>\n",
       "</div>"
      ],
      "text/plain": [
       "   year  ev_sales  phev_sales  tot_prod  tot_sales  total_emission  \\\n",
       "0  2011     10092      7671.0   8662000   10109000          5445.7   \n",
       "1  2012     14587     38584.0  10336000   11582000          5229.0   \n",
       "2  2013     48094     49008.0  11067000   12479000          5356.0   \n",
       "3  2014     63525     55357.0  11661000   13389000          5413.2   \n",
       "4  2015     71064     42959.0  12106000   14128000          5262.9   \n",
       "\n",
       "   transportation_emission  motor_emission  tot_ren_energy       gdp_usd  \\\n",
       "0                   1809.0          1057.0        9204.160  1.550000e+13   \n",
       "1                   1773.4          1051.1        8847.119  1.620000e+13   \n",
       "2                   1796.4          1066.0        9450.625  1.680000e+13   \n",
       "3                   1814.9          1077.2        9740.360  1.750000e+13   \n",
       "4                   1838.8          1083.1        9720.544  1.820000e+13   \n",
       "\n",
       "   gdp_growth_annual%  gasprice_per_gal  inflated_gasprice_gal  \n",
       "0                1.55              3.48                   3.99  \n",
       "1                2.25              3.55                   3.99  \n",
       "2                1.84              3.44                   3.81  \n",
       "3                2.45              3.30                   3.59  \n",
       "4                2.88              2.33                   2.54  "
      ]
     },
     "execution_count": 50,
     "metadata": {},
     "output_type": "execute_result"
    }
   ],
   "source": [
    "prediction_data = pd.concat([final_df, sale_prediction_df])\n",
    "prediction_data= prediction_data.fillna(0)\n",
    "prediction_data.head()"
   ]
  },
  {
   "cell_type": "code",
   "execution_count": 51,
   "metadata": {},
   "outputs": [],
   "source": [
    "prediction_data.to_csv(\"../../data/cleaned/final_ml_prediction_data.csv\", index=False)"
   ]
  }
 ],
 "metadata": {
  "kernelspec": {
   "display_name": "Python 3.6.10 64-bit ('PythonData': conda)",
   "language": "python",
   "name": "python361064bitpythondataconda3ce15943e36d47fe80658a877842692c"
  },
  "language_info": {
   "codemirror_mode": {
    "name": "ipython",
    "version": 3
   },
   "file_extension": ".py",
   "mimetype": "text/x-python",
   "name": "python",
   "nbconvert_exporter": "python",
   "pygments_lexer": "ipython3",
   "version": "3.6.10"
  }
 },
 "nbformat": 4,
 "nbformat_minor": 4
}
